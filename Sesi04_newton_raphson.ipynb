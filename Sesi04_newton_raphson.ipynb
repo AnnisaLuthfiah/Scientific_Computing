{
  "nbformat": 4,
  "nbformat_minor": 0,
  "metadata": {
    "colab": {
      "provenance": []
    },
    "kernelspec": {
      "name": "python3",
      "display_name": "Python 3"
    },
    "language_info": {
      "name": "python"
    }
  },
  "cells": [
    {
      "cell_type": "code",
      "execution_count": 1,
      "metadata": {
        "colab": {
          "base_uri": "https://localhost:8080/"
        },
        "id": "rGnoR55vrRwl",
        "outputId": "7657b835-e925-4b51-b433-b18719ac3ba5"
      },
      "outputs": [
        {
          "output_type": "stream",
          "name": "stdout",
          "text": [
            "newton_raphson = 1.4142857142857144\n",
            "sqrt(2) = 1.4142135623730951\n"
          ]
        }
      ],
      "source": [
        "import numpy as np\n",
        "\n",
        "f = lambda x: x**2 - 2\n",
        "f_prime = lambda x: 2*x\n",
        "newton_raphson = 1.4 - (f(1.4)) / (f_prime(1.4))\n",
        "\n",
        "print(\"newton_raphson =\", newton_raphson)\n",
        "print(\"sqrt(2) =\", np.sqrt(2))"
      ]
    },
    {
      "cell_type": "code",
      "source": [
        "def my_newton(f, df, x0, tol):\n",
        "  # output is an estimation of the root of f\n",
        "  # using the Newton Raphson method\n",
        "  # recusrsive implementation\n",
        "\n",
        "  if abs(f(x0)) < tol:\n",
        "    return x0\n",
        "  else:\n",
        "    return my_newton(f, df, x0 - f(x0)/df(x0), tol)"
      ],
      "metadata": {
        "id": "hOXLvGYzsg4U"
      },
      "execution_count": 2,
      "outputs": []
    },
    {
      "cell_type": "code",
      "source": [
        "estimate = my_newton(f, f_prime, 1.5, 1e-6)\n",
        "print(\"estimate =\", estimate)\n",
        "print(\"sqrt(2) =\", np.sqrt(2))"
      ],
      "metadata": {
        "colab": {
          "base_uri": "https://localhost:8080/"
        },
        "id": "Vs9IW6sgtGCc",
        "outputId": "e03589e7-a23b-4735-d4d3-e482c98df86f"
      },
      "execution_count": 3,
      "outputs": [
        {
          "output_type": "stream",
          "name": "stdout",
          "text": [
            "estimate = 1.4142135623746899\n",
            "sqrt(2) = 1.4142135623730951\n"
          ]
        }
      ]
    },
    {
      "cell_type": "markdown",
      "source": [
        "Quiz 1 Newton Raphson"
      ],
      "metadata": {
        "id": "N4BppmNRu9z7"
      }
    },
    {
      "cell_type": "markdown",
      "source": [
        "f(x) = x^3 - 3x^2 + 2x\n",
        "  x0 = 1.5\n",
        "  tol = 0.01"
      ],
      "metadata": {
        "id": "HdcqdiHYvKoI"
      }
    },
    {
      "cell_type": "markdown",
      "source": [
        "Jawaban Quiz 1"
      ],
      "metadata": {
        "id": "POxUdjSfHaV1"
      }
    },
    {
      "cell_type": "code",
      "source": [
        "import numpy as np\n",
        "\n",
        "f_quiz1 = lambda x: x**3 - 3*x**2 + 2*x\n",
        "f_prime_quiz1 = lambda x: 3*x*2 - 6*x + 2\n",
        "\n",
        "def my_newton(f, df, x0, tol):\n",
        "  # output is an estimation of the root of f\n",
        "  # using the Newton Raphson method\n",
        "  # recusrsive implementation\n",
        "\n",
        "  if abs(f(x0)) < tol:\n",
        "    return x0\n",
        "  else:\n",
        "    return my_newton(f,df, x0 - f(x0)/df(x0), tol)\n",
        "\n",
        "estimate_quiz1 = my_newton(f_quiz1, f_prime_quiz1, 1.5, 0.01)\n",
        "\n",
        "print(\"Quiz 1 Newton Rapshon\")\n",
        "print(\"estimate =\", estimate_quiz1)\n",
        "print(\"f(estimate) =\", f_quiz1(estimate_quiz1))\n",
        "print(\"sqrt(2) =\", np.sqrt(2))"
      ],
      "metadata": {
        "colab": {
          "base_uri": "https://localhost:8080/"
        },
        "id": "HF6U-doh3AtC",
        "outputId": "2191a262-3501-455f-be71-d93e51047581"
      },
      "execution_count": 4,
      "outputs": [
        {
          "output_type": "stream",
          "name": "stdout",
          "text": [
            "Quiz 1 Newton Rapshon\n",
            "estimate = 1.9990923725928305\n",
            "f(estimate) = -0.0018127841995010385\n",
            "sqrt(2) = 1.4142135623730951\n"
          ]
        }
      ]
    },
    {
      "cell_type": "markdown",
      "source": [
        "Quiz 2 Newton Raphson\n"
      ],
      "metadata": {
        "id": "yZ8Fagqmv3ZV"
      }
    },
    {
      "cell_type": "markdown",
      "source": [
        "f(x) = e^x - 2x\n",
        "  x0 = 1\n",
        "  tol = 0.001"
      ],
      "metadata": {
        "id": "PsIeDkCTv7gX"
      }
    },
    {
      "cell_type": "markdown",
      "source": [
        "Jawaban Quiz 2"
      ],
      "metadata": {
        "id": "HYdo_gXmHem6"
      }
    },
    {
      "cell_type": "code",
      "source": [
        "import numpy as np\n",
        "\n",
        "f_quiz2 = lambda x:np.exp(x) -2*x\n",
        "f_prime_quiz2 = lambda x: np.exp(x) - 2\n",
        "\n",
        "def my_newton(f, df, x0, tol):\n",
        "  # output is an estimation of the root of f\n",
        "  # using the Newton Raphson method\n",
        "  # recusrsive implementation\n",
        "\n",
        "  if abs(f(x0)) < tol:\n",
        "    return x0\n",
        "  else:\n",
        "    return my_newton(f, df, x0 - f(x0)/df(x0), tol)\n",
        "\n",
        "    estimate_quiz2 = my_newton(f_quiz2, f_prime_quiz2, 1, 0.001)\n",
        "\n",
        "    print(\"Quiz 2 Newton Raphson\")\n",
        "    print(\"estimate =\", estimate_quiz2)\n",
        "    print(\"f(estimate) =\", f_quiz2(estimate_quiz2))\n",
        "    print(\"sqrt(2) =\", np.sqrt(2))"
      ],
      "metadata": {
        "id": "q4BZA-0EDYQX"
      },
      "execution_count": 8,
      "outputs": []
    }
  ]
}