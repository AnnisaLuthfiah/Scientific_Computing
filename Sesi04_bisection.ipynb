{
  "nbformat": 4,
  "nbformat_minor": 0,
  "metadata": {
    "colab": {
      "provenance": []
    },
    "kernelspec": {
      "name": "python3",
      "display_name": "Python 3"
    },
    "language_info": {
      "name": "python"
    }
  },
  "cells": [
    {
      "cell_type": "code",
      "execution_count": 1,
      "metadata": {
        "id": "8ZaYLMOlloAZ"
      },
      "outputs": [],
      "source": [
        "import numpy as np\n",
        "\n",
        "def my_bisection(f,a,b,tol):\n",
        "  # approximates a root,  R, of f bounded\n",
        "  # by a and b to within tolerance\n",
        "  # | f(m) | < tol with m the midpoint\n",
        "  # between a and b Recursive implementation\n",
        "\n",
        "  # check if a dan b bound a root\n",
        "  if np.sign(f(a)) == np.sign(f(b)):\n",
        "      raise Exception(\n",
        "          \"The scalars a and b do not bound a root\")\n",
        "\n",
        "  # get midpoint\n",
        "  m = (a + b)/2\n",
        "\n",
        "  if np.abs(f(m)) < tol:\n",
        "    # stopping condition, report m as root\n",
        "    return m\n",
        "  elif np.sign(f(a)) == np.sign(f(m)):\n",
        "    # case where m is an improvement on a.\n",
        "    # Make recursive call with a = m\n",
        "    return my_bisection(f, m, b, tol)\n",
        "  elif np.sign(f(b)) == np.sign(f(m)):\n",
        "    # case where m is an improvement on b.\n",
        "    # Make recursive call with b = m\n",
        "    return my_bisection(f, a, m, tol)"
      ]
    },
    {
      "cell_type": "code",
      "source": [
        "f = lambda x: x**2 - 2\n",
        "\n",
        "r1 = my_bisection(f, 0, 2, 0.1)\n",
        "print(\"r1 =\", r1)\n",
        "r01 = my_bisection(f, 0, 2, 0.01)\n",
        "print(\"r01 =\", r01)\n",
        "\n",
        "print(\"f(r1) =\", f(r1))\n",
        "print(\"f(r01) =\", f(r01))"
      ],
      "metadata": {
        "colab": {
          "base_uri": "https://localhost:8080/"
        },
        "id": "Jf9yb67Hohgk",
        "outputId": "21fdbfc2-6d7f-4e45-d513-d160da80894a"
      },
      "execution_count": 2,
      "outputs": [
        {
          "output_type": "stream",
          "name": "stdout",
          "text": [
            "r1 = 1.4375\n",
            "r01 = 1.4140625\n",
            "f(r1) = 0.06640625\n",
            "f(r01) = -0.00042724609375\n"
          ]
        }
      ]
    },
    {
      "cell_type": "code",
      "source": [
        "my_bisection(f, 2, 4, 0.01)"
      ],
      "metadata": {
        "colab": {
          "base_uri": "https://localhost:8080/",
          "height": 269
        },
        "id": "5nWbrl-nqy-u",
        "outputId": "1b27c291-dca8-4f2f-b530-188668ffee98"
      },
      "execution_count": 3,
      "outputs": [
        {
          "output_type": "error",
          "ename": "Exception",
          "evalue": "The scalars a and b do not bound a root",
          "traceback": [
            "\u001b[0;31m---------------------------------------------------------------------------\u001b[0m",
            "\u001b[0;31mException\u001b[0m                                 Traceback (most recent call last)",
            "\u001b[0;32m<ipython-input-3-4158b7a9ae67>\u001b[0m in \u001b[0;36m<cell line: 1>\u001b[0;34m()\u001b[0m\n\u001b[0;32m----> 1\u001b[0;31m \u001b[0mmy_bisection\u001b[0m\u001b[0;34m(\u001b[0m\u001b[0mf\u001b[0m\u001b[0;34m,\u001b[0m \u001b[0;36m2\u001b[0m\u001b[0;34m,\u001b[0m \u001b[0;36m4\u001b[0m\u001b[0;34m,\u001b[0m \u001b[0;36m0.01\u001b[0m\u001b[0;34m)\u001b[0m\u001b[0;34m\u001b[0m\u001b[0;34m\u001b[0m\u001b[0m\n\u001b[0m",
            "\u001b[0;32m<ipython-input-1-245d9afc68bb>\u001b[0m in \u001b[0;36mmy_bisection\u001b[0;34m(f, a, b, tol)\u001b[0m\n\u001b[1;32m      9\u001b[0m   \u001b[0;31m# check if a dan b bound a root\u001b[0m\u001b[0;34m\u001b[0m\u001b[0;34m\u001b[0m\u001b[0m\n\u001b[1;32m     10\u001b[0m   \u001b[0;32mif\u001b[0m \u001b[0mnp\u001b[0m\u001b[0;34m.\u001b[0m\u001b[0msign\u001b[0m\u001b[0;34m(\u001b[0m\u001b[0mf\u001b[0m\u001b[0;34m(\u001b[0m\u001b[0ma\u001b[0m\u001b[0;34m)\u001b[0m\u001b[0;34m)\u001b[0m \u001b[0;34m==\u001b[0m \u001b[0mnp\u001b[0m\u001b[0;34m.\u001b[0m\u001b[0msign\u001b[0m\u001b[0;34m(\u001b[0m\u001b[0mf\u001b[0m\u001b[0;34m(\u001b[0m\u001b[0mb\u001b[0m\u001b[0;34m)\u001b[0m\u001b[0;34m)\u001b[0m\u001b[0;34m:\u001b[0m\u001b[0;34m\u001b[0m\u001b[0;34m\u001b[0m\u001b[0m\n\u001b[0;32m---> 11\u001b[0;31m       raise Exception(\n\u001b[0m\u001b[1;32m     12\u001b[0m           \"The scalars a and b do not bound a root\")\n\u001b[1;32m     13\u001b[0m \u001b[0;34m\u001b[0m\u001b[0m\n",
            "\u001b[0;31mException\u001b[0m: The scalars a and b do not bound a root"
          ]
        }
      ]
    },
    {
      "cell_type": "markdown",
      "source": [
        "Quiz 1 Bisection"
      ],
      "metadata": {
        "id": "lleyU8c1udR5"
      }
    },
    {
      "cell_type": "markdown",
      "source": [
        "f(x) = x^3 -3x^2 + 2x\n",
        "[a.b] = [1.2]\n",
        "tol = 0.01\n"
      ],
      "metadata": {
        "id": "YnOQToThuisa"
      }
    },
    {
      "cell_type": "markdown",
      "source": [
        "Jawaban Quiz 1"
      ],
      "metadata": {
        "id": "ELmzZhu9HL9v"
      }
    },
    {
      "cell_type": "code",
      "source": [
        "print(\"Quiz 1 Bisection:\")\n",
        "\n",
        "f1 = lambda x: x**3 - 3*x**2 + 2*x\n",
        "r1 = my_bisection(f1, 1, 2, 0.01)\n",
        "print(\"r1 =\", r1)\n",
        "print(\"f(r1) =\", f1(r1))\n",
        "\n"
      ],
      "metadata": {
        "colab": {
          "base_uri": "https://localhost:8080/",
          "height": 358
        },
        "id": "S8voDNidwGqd",
        "outputId": "24c1ceb5-34d1-415f-fc46-bcff0ba64faf"
      },
      "execution_count": 16,
      "outputs": [
        {
          "output_type": "stream",
          "name": "stdout",
          "text": [
            "Quiz 1 Bisection:\n"
          ]
        },
        {
          "output_type": "error",
          "ename": "Exception",
          "evalue": "The scalars a and b do not bound a root",
          "traceback": [
            "\u001b[0;31m---------------------------------------------------------------------------\u001b[0m",
            "\u001b[0;31mException\u001b[0m                                 Traceback (most recent call last)",
            "\u001b[0;32m<ipython-input-16-15b2d005df3d>\u001b[0m in \u001b[0;36m<cell line: 4>\u001b[0;34m()\u001b[0m\n\u001b[1;32m      2\u001b[0m \u001b[0;34m\u001b[0m\u001b[0m\n\u001b[1;32m      3\u001b[0m \u001b[0mf1\u001b[0m \u001b[0;34m=\u001b[0m \u001b[0;32mlambda\u001b[0m \u001b[0mx\u001b[0m\u001b[0;34m:\u001b[0m \u001b[0mx\u001b[0m\u001b[0;34m**\u001b[0m\u001b[0;36m3\u001b[0m \u001b[0;34m-\u001b[0m \u001b[0;36m3\u001b[0m\u001b[0;34m*\u001b[0m\u001b[0mx\u001b[0m\u001b[0;34m**\u001b[0m\u001b[0;36m2\u001b[0m \u001b[0;34m+\u001b[0m \u001b[0;36m2\u001b[0m\u001b[0;34m*\u001b[0m\u001b[0mx\u001b[0m\u001b[0;34m\u001b[0m\u001b[0;34m\u001b[0m\u001b[0m\n\u001b[0;32m----> 4\u001b[0;31m \u001b[0mr1\u001b[0m \u001b[0;34m=\u001b[0m \u001b[0mmy_bisection\u001b[0m\u001b[0;34m(\u001b[0m\u001b[0mf1\u001b[0m\u001b[0;34m,\u001b[0m \u001b[0;36m1\u001b[0m\u001b[0;34m,\u001b[0m \u001b[0;36m2\u001b[0m\u001b[0;34m,\u001b[0m \u001b[0;36m0.01\u001b[0m\u001b[0;34m)\u001b[0m\u001b[0;34m\u001b[0m\u001b[0;34m\u001b[0m\u001b[0m\n\u001b[0m\u001b[1;32m      5\u001b[0m \u001b[0mprint\u001b[0m\u001b[0;34m(\u001b[0m\u001b[0;34m\"r1 =\"\u001b[0m\u001b[0;34m,\u001b[0m \u001b[0mr1\u001b[0m\u001b[0;34m)\u001b[0m\u001b[0;34m\u001b[0m\u001b[0;34m\u001b[0m\u001b[0m\n\u001b[1;32m      6\u001b[0m \u001b[0mprint\u001b[0m\u001b[0;34m(\u001b[0m\u001b[0;34m\"f(r1) =\"\u001b[0m\u001b[0;34m,\u001b[0m \u001b[0mf1\u001b[0m\u001b[0;34m(\u001b[0m\u001b[0mr1\u001b[0m\u001b[0;34m)\u001b[0m\u001b[0;34m)\u001b[0m\u001b[0;34m\u001b[0m\u001b[0;34m\u001b[0m\u001b[0m\n",
            "\u001b[0;32m<ipython-input-1-245d9afc68bb>\u001b[0m in \u001b[0;36mmy_bisection\u001b[0;34m(f, a, b, tol)\u001b[0m\n\u001b[1;32m      9\u001b[0m   \u001b[0;31m# check if a dan b bound a root\u001b[0m\u001b[0;34m\u001b[0m\u001b[0;34m\u001b[0m\u001b[0m\n\u001b[1;32m     10\u001b[0m   \u001b[0;32mif\u001b[0m \u001b[0mnp\u001b[0m\u001b[0;34m.\u001b[0m\u001b[0msign\u001b[0m\u001b[0;34m(\u001b[0m\u001b[0mf\u001b[0m\u001b[0;34m(\u001b[0m\u001b[0ma\u001b[0m\u001b[0;34m)\u001b[0m\u001b[0;34m)\u001b[0m \u001b[0;34m==\u001b[0m \u001b[0mnp\u001b[0m\u001b[0;34m.\u001b[0m\u001b[0msign\u001b[0m\u001b[0;34m(\u001b[0m\u001b[0mf\u001b[0m\u001b[0;34m(\u001b[0m\u001b[0mb\u001b[0m\u001b[0;34m)\u001b[0m\u001b[0;34m)\u001b[0m\u001b[0;34m:\u001b[0m\u001b[0;34m\u001b[0m\u001b[0;34m\u001b[0m\u001b[0m\n\u001b[0;32m---> 11\u001b[0;31m       raise Exception(\n\u001b[0m\u001b[1;32m     12\u001b[0m           \"The scalars a and b do not bound a root\")\n\u001b[1;32m     13\u001b[0m \u001b[0;34m\u001b[0m\u001b[0m\n",
            "\u001b[0;31mException\u001b[0m: The scalars a and b do not bound a root"
          ]
        }
      ]
    },
    {
      "cell_type": "markdown",
      "source": [
        "Quiz 2 Bisection\n"
      ],
      "metadata": {
        "id": "P_RFhMonvfCO"
      }
    },
    {
      "cell_type": "markdown",
      "source": [
        "f(x) = sin(x)-x\n",
        "  [a.b] = [0,1]\n",
        "  tol = 0.001"
      ],
      "metadata": {
        "id": "pyTNmcLkvoD7"
      }
    },
    {
      "cell_type": "markdown",
      "source": [
        "Jawaban Quiz 2"
      ],
      "metadata": {
        "id": "gG-fWlJnwDqG"
      }
    },
    {
      "cell_type": "code",
      "source": [
        "print(\"Quiz 2 Bisection:\")\n",
        "\n",
        "f2 = lambda x: np.sin(x) - x\n",
        "r2 = my_bisection(f2, 0, 1, 0.001)\n",
        "print(\"r2 =\", r2)\n",
        "print(\"f(r2) =\", f2(r2))"
      ],
      "metadata": {
        "colab": {
          "base_uri": "https://localhost:8080/"
        },
        "id": "rpT18V5U1qHN",
        "outputId": "ddef75b8-ccba-4908-d076-7a0e8ac8db22"
      },
      "execution_count": 15,
      "outputs": [
        {
          "output_type": "stream",
          "name": "stdout",
          "text": [
            "Quiz 2 Bisection:\n",
            "r2 = 0.125\n",
            "f(r2) = -0.0003252666147723071\n"
          ]
        }
      ]
    }
  ]
}